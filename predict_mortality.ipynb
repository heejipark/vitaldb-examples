{
 "cells": [
  {
   "cell_type": "markdown",
   "metadata": {
    "colab_type": "text",
    "id": "view-in-github"
   },
   "source": [
    "<a href=\"https://colab.research.google.com/github/vitaldb/examples/blob/master/predict_mortality.ipynb\" target=\"_parent\"><img src=\"https://colab.research.google.com/assets/colab-badge.svg\" alt=\"Open In Colab\"/></a>"
   ]
  },
  {
   "cell_type": "markdown",
   "metadata": {},
   "source": [
    "# Machine learning model for predicting in-hospital mortality\n",
    "In this example, we will learn how to build a model for predicting in-hospital mortality with <code>VitalDB</code> dataset.<br>\n",
    "\n",
    "> Note that <b>all users who use Vital DB, an open biosignal dataset, must agree to the Data Use Agreement below. </b> If you do not agree, please close this window. Click here: [Data Use Agreement](https://vitaldb.net/dataset/?query=overview&documentId=13qqajnNZzkN7NZ9aXnaQ-47NWy7kx-a6gbrcEsi-gak&sectionId=h.vcpgs1yemdb5)"
   ]
  },
  {
   "cell_type": "markdown",
   "metadata": {},
   "source": [
    "## Preprocessing"
   ]
  },
  {
   "cell_type": "code",
   "execution_count": 1,
   "metadata": {
    "colab": {
     "base_uri": "https://localhost:8080/"
    },
    "id": "1tnmS-S_MrAM",
    "outputId": "d6360124-b3af-4659-a333-c839a1926b72"
   },
   "outputs": [
    {
     "name": "stdout",
     "output_type": "stream",
     "text": [
      "37/4274 train, 18/1969 test\n"
     ]
    }
   ],
   "source": [
    "import pandas as pd\n",
    "\n",
    "# Set variables\n",
    "OUTCOME_VAR = 'death_inhosp'\n",
    "INPUT_VARS = ['age', 'preop_hb', 'preop_alb', 'preop_ast', 'preop_cr']\n",
    "\n",
    "# Load dataset\n",
    "df = pd.read_csv('https://api.vitaldb.net/cases')\n",
    "df = df[df['asa'] < 6]\n",
    "\n",
    "# Split a dataset into train and test sets\n",
    "ntrain = int(len(df) * 0.7)\n",
    "y_train = df.loc[:ntrain, OUTCOME_VAR]\n",
    "x_train = df.loc[:ntrain, INPUT_VARS]\n",
    "y_test = df.loc[ntrain:, OUTCOME_VAR]\n",
    "x_test = df.loc[ntrain:, INPUT_VARS]\n",
    "\n",
    "# Print the number of train and test sets\n",
    "print('{}/{} train, {}/{} test'.format(sum(y_train), len(y_train), sum(y_test), len(y_test)))"
   ]
  },
  {
   "cell_type": "markdown",
   "metadata": {},
   "source": [
    "## Compute auroc and auprc scores using ASA class"
   ]
  },
  {
   "cell_type": "code",
   "execution_count": 2,
   "metadata": {
    "colab": {
     "base_uri": "https://localhost:8080/"
    },
    "id": "KQ_hJ1FvNIGl",
    "outputId": "701ec834-04bb-44fb-9218-6712107af294"
   },
   "outputs": [
    {
     "name": "stdout",
     "output_type": "stream",
     "text": [
      "ASA auroc: 0.900, auprc: 0.335\n"
     ]
    }
   ],
   "source": [
    "# ASA class\n",
    "from sklearn.metrics import roc_auc_score, auc, precision_recall_curve\n",
    "y_pred_asa = df.loc[ntrain:, 'asa']\n",
    "\n",
    "# Compute area under the ROC AUC from prediction scores\n",
    "auroc_asa = roc_auc_score(y_test, y_pred_asa)\n",
    "\n",
    "# Compute the precision recall curve\n",
    "prc_asa, rec_asa, thresholds = precision_recall_curve(y_test, y_pred_asa)\n",
    "\n",
    "# Compute area under the precision-recall curve\n",
    "auprc_asa = auc(rec_asa, prc_asa)\n",
    "print('ASA auroc: {:.3f}, auprc: {:.3f}'.format(auroc_asa, auprc_asa))"
   ]
  },
  {
   "cell_type": "markdown",
   "metadata": {},
   "source": [
    "## Modeling with Logistic Regression"
   ]
  },
  {
   "cell_type": "code",
   "execution_count": 3,
   "metadata": {
    "colab": {
     "base_uri": "https://localhost:8080/"
    },
    "id": "fJgNhKGhNJZw",
    "outputId": "ef285e3b-58a7-4a95-ec81-ec531e973bb5"
   },
   "outputs": [
    {
     "name": "stdout",
     "output_type": "stream",
     "text": [
      "LR auroc: 0.947, auprc: 0.236\n"
     ]
    }
   ],
   "source": [
    "# 1 - Logistic regression using SimpleImputer()\n",
    "from sklearn.impute import SimpleImputer\n",
    "imp = SimpleImputer().fit(x_train)\n",
    "x_train_imputed = imp.transform(x_train)\n",
    "x_test_imputed = imp.transform(x_test)\n",
    "\n",
    "# 2 - Logistic regression using LogisticRegression()\n",
    "from sklearn.linear_model import LogisticRegression\n",
    "model = LogisticRegression().fit(x_train_imputed, y_train)\n",
    "y_pred_lr = model.predict_proba(x_test_imputed)[:, 1]\n",
    "\n",
    "# Compute AUROC and AUPRC\n",
    "auroc_lr = roc_auc_score(y_test, y_pred_lr)\n",
    "prc_lr, rec_lr, thresholds = precision_recall_curve(y_test, y_pred_lr)\n",
    "auprc_lr = auc(rec_lr, prc_lr)\n",
    "print('LR auroc: {:.3f}, auprc: {:.3f}'.format(auroc_lr, auprc_lr))"
   ]
  },
  {
   "cell_type": "markdown",
   "metadata": {},
   "source": [
    "## Modeling with Gradient Boosting"
   ]
  },
  {
   "cell_type": "code",
   "execution_count": 4,
   "metadata": {
    "colab": {
     "base_uri": "https://localhost:8080/"
    },
    "id": "Oe9U_XvNNJiC",
    "outputId": "3f1924de-adaf-426a-9d63-469877e5d701"
   },
   "outputs": [
    {
     "name": "stdout",
     "output_type": "stream",
     "text": [
      "GBM auroc: 0.960, auprc: 0.662\n"
     ]
    }
   ],
   "source": [
    "# 3 - Gradient Boosting using XGBClassifier()\n",
    "from xgboost import XGBClassifier\n",
    "model = XGBClassifier(learning_rate=0.07, max_depth=4, n_estimators=50, subsample=0.8, colsample_bytree=0.8, use_label_encoder=False, eval_metric='logloss')\n",
    "model.fit(x_train, y_train)\n",
    "y_pred_gbm = model.predict_proba(x_test)[:, 1]\n",
    "\n",
    "# Compute AUROC and AUPRC\n",
    "auroc_gbm = roc_auc_score(y_test, y_pred_gbm)\n",
    "prc_gbm, rec_gbm, thresholds = precision_recall_curve(y_test, y_pred_gbm)\n",
    "auprc_gbm = auc(rec_gbm, prc_gbm)\n",
    "print('GBM auroc: {:.3f}, auprc: {:.3f}'.format(auroc_gbm, auprc_gbm))"
   ]
  }
 ],
 "metadata": {
  "colab": {
   "authorship_tag": "ABX9TyPc/oNwpJOh5Z13B1u1s559",
   "include_colab_link": true,
   "name": "predict_mortality.ipynb",
   "provenance": []
  },
  "kernelspec": {
   "display_name": "Python 3 (ipykernel)",
   "language": "python",
   "name": "python3"
  },
  "language_info": {
   "codemirror_mode": {
    "name": "ipython",
    "version": 3
   },
   "file_extension": ".py",
   "mimetype": "text/x-python",
   "name": "python",
   "nbconvert_exporter": "python",
   "pygments_lexer": "ipython3",
   "version": "3.9.12"
  }
 },
 "nbformat": 4,
 "nbformat_minor": 1
}
