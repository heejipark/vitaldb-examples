{
 "cells": [
  {
   "cell_type": "markdown",
   "metadata": {
    "colab_type": "text",
    "id": "view-in-github"
   },
   "source": [
    "<a href=\"https://colab.research.google.com/github/vitaldb/examples/blob/master/vitaldb_python_library.ipynb\" target=\"_parent\"><img src=\"https://colab.research.google.com/assets/colab-badge.svg\" alt=\"Open In Colab\"/></a>"
   ]
  },
  {
   "cell_type": "markdown",
   "metadata": {
    "id": "X2COxMJNUxIh"
   },
   "source": [
    "# VitalDB Python Library\n",
    "In this example, we will learn how to handle Vital files using `vitaldb` Python library."
   ]
  },
  {
   "cell_type": "markdown",
   "metadata": {
    "id": "0pAlf-93XLo9"
   },
   "source": [
    "## Preparation"
   ]
  },
  {
   "cell_type": "markdown",
   "metadata": {
    "id": "Yz6rZEtHVQwG"
   },
   "source": [
    "### Install 'vitaldb' library\n",
    "Intall `vitaldb` library in order to read Vital files."
   ]
  },
  {
   "cell_type": "code",
   "execution_count": 1,
   "metadata": {
    "colab": {
     "base_uri": "https://localhost:8080/"
    },
    "id": "t88MHi_hcHAT",
    "outputId": "025eaddd-9993-44c4-a03f-11fc4af9f676"
   },
   "outputs": [
    {
     "name": "stdout",
     "output_type": "stream",
     "text": [
      "Looking in indexes: https://pypi.org/simple, https://us-python.pkg.dev/colab-wheels/public/simple/\n",
      "Collecting vitaldb\n",
      "  Downloading vitaldb-1.0.1-py3-none-any.whl (50 kB)\n",
      "\u001b[K     |████████████████████████████████| 50 kB 2.6 MB/s \n",
      "\u001b[?25hRequirement already satisfied: pandas in /usr/local/lib/python3.7/dist-packages (from vitaldb) (1.3.5)\n",
      "Requirement already satisfied: pyarrow in /usr/local/lib/python3.7/dist-packages (from vitaldb) (6.0.1)\n",
      "Collecting s3fs\n",
      "  Downloading s3fs-2022.5.0-py3-none-any.whl (27 kB)\n",
      "Requirement already satisfied: numpy in /usr/local/lib/python3.7/dist-packages (from vitaldb) (1.21.6)\n",
      "Requirement already satisfied: requests in /usr/local/lib/python3.7/dist-packages (from vitaldb) (2.23.0)\n",
      "Requirement already satisfied: pytz>=2017.3 in /usr/local/lib/python3.7/dist-packages (from pandas->vitaldb) (2022.1)\n",
      "Requirement already satisfied: python-dateutil>=2.7.3 in /usr/local/lib/python3.7/dist-packages (from pandas->vitaldb) (2.8.2)\n",
      "Requirement already satisfied: six>=1.5 in /usr/local/lib/python3.7/dist-packages (from python-dateutil>=2.7.3->pandas->vitaldb) (1.15.0)\n",
      "Requirement already satisfied: certifi>=2017.4.17 in /usr/local/lib/python3.7/dist-packages (from requests->vitaldb) (2022.6.15)\n",
      "Requirement already satisfied: idna<3,>=2.5 in /usr/local/lib/python3.7/dist-packages (from requests->vitaldb) (2.10)\n",
      "Requirement already satisfied: urllib3!=1.25.0,!=1.25.1,<1.26,>=1.21.1 in /usr/local/lib/python3.7/dist-packages (from requests->vitaldb) (1.24.3)\n",
      "Requirement already satisfied: chardet<4,>=3.0.2 in /usr/local/lib/python3.7/dist-packages (from requests->vitaldb) (3.0.4)\n",
      "Collecting aiohttp<=4\n",
      "  Downloading aiohttp-3.8.1-cp37-cp37m-manylinux_2_5_x86_64.manylinux1_x86_64.manylinux_2_12_x86_64.manylinux2010_x86_64.whl (1.1 MB)\n",
      "\u001b[K     |████████████████████████████████| 1.1 MB 15.2 MB/s \n",
      "\u001b[?25hCollecting fsspec==2022.5.0\n",
      "  Downloading fsspec-2022.5.0-py3-none-any.whl (140 kB)\n",
      "\u001b[K     |████████████████████████████████| 140 kB 44.3 MB/s \n",
      "\u001b[?25hCollecting aiobotocore~=2.3.0\n",
      "  Downloading aiobotocore-2.3.3.tar.gz (65 kB)\n",
      "\u001b[K     |████████████████████████████████| 65 kB 3.7 MB/s \n",
      "\u001b[?25hCollecting botocore<1.24.22,>=1.24.21\n",
      "  Downloading botocore-1.24.21-py3-none-any.whl (8.6 MB)\n",
      "\u001b[K     |████████████████████████████████| 8.6 MB 49.3 MB/s \n",
      "\u001b[?25hRequirement already satisfied: wrapt>=1.10.10 in /usr/local/lib/python3.7/dist-packages (from aiobotocore~=2.3.0->s3fs->vitaldb) (1.14.1)\n",
      "Collecting aioitertools>=0.5.1\n",
      "  Downloading aioitertools-0.10.0-py3-none-any.whl (23 kB)\n",
      "Collecting aiosignal>=1.1.2\n",
      "  Downloading aiosignal-1.2.0-py3-none-any.whl (8.2 kB)\n",
      "Collecting asynctest==0.13.0\n",
      "  Downloading asynctest-0.13.0-py3-none-any.whl (26 kB)\n",
      "Requirement already satisfied: attrs>=17.3.0 in /usr/local/lib/python3.7/dist-packages (from aiohttp<=4->s3fs->vitaldb) (21.4.0)\n",
      "Collecting yarl<2.0,>=1.0\n",
      "  Downloading yarl-1.7.2-cp37-cp37m-manylinux_2_5_x86_64.manylinux1_x86_64.manylinux_2_12_x86_64.manylinux2010_x86_64.whl (271 kB)\n",
      "\u001b[K     |████████████████████████████████| 271 kB 37.6 MB/s \n",
      "\u001b[?25hCollecting frozenlist>=1.1.1\n",
      "  Downloading frozenlist-1.3.0-cp37-cp37m-manylinux_2_5_x86_64.manylinux1_x86_64.manylinux_2_17_x86_64.manylinux2014_x86_64.whl (144 kB)\n",
      "\u001b[K     |████████████████████████████████| 144 kB 45.0 MB/s \n",
      "\u001b[?25hCollecting async-timeout<5.0,>=4.0.0a3\n",
      "  Downloading async_timeout-4.0.2-py3-none-any.whl (5.8 kB)\n",
      "Requirement already satisfied: typing-extensions>=3.7.4 in /usr/local/lib/python3.7/dist-packages (from aiohttp<=4->s3fs->vitaldb) (4.1.1)\n",
      "Collecting multidict<7.0,>=4.5\n",
      "  Downloading multidict-6.0.2-cp37-cp37m-manylinux_2_17_x86_64.manylinux2014_x86_64.whl (94 kB)\n",
      "\u001b[K     |████████████████████████████████| 94 kB 2.8 MB/s \n",
      "\u001b[?25hRequirement already satisfied: charset-normalizer<3.0,>=2.0 in /usr/local/lib/python3.7/dist-packages (from aiohttp<=4->s3fs->vitaldb) (2.0.12)\n",
      "Collecting jmespath<2.0.0,>=0.7.1\n",
      "  Downloading jmespath-1.0.1-py3-none-any.whl (20 kB)\n",
      "Collecting urllib3!=1.25.0,!=1.25.1,<1.26,>=1.21.1\n",
      "  Downloading urllib3-1.25.11-py2.py3-none-any.whl (127 kB)\n",
      "\u001b[K     |████████████████████████████████| 127 kB 22.6 MB/s \n",
      "\u001b[?25hBuilding wheels for collected packages: aiobotocore\n",
      "  Building wheel for aiobotocore (setup.py) ... \u001b[?25l\u001b[?25hdone\n",
      "  Created wheel for aiobotocore: filename=aiobotocore-2.3.3-py3-none-any.whl size=64640 sha256=3c7d9c0594a82204361ae5ab4da5859f4859972b0c3cab3c1b0d31e74136067f\n",
      "  Stored in directory: /root/.cache/pip/wheels/71/90/2f/bf0c130857587a589d0faa0fb743a7e52b915037532008aabe\n",
      "Successfully built aiobotocore\n",
      "Installing collected packages: multidict, frozenlist, yarl, urllib3, jmespath, asynctest, async-timeout, aiosignal, botocore, aioitertools, aiohttp, fsspec, aiobotocore, s3fs, vitaldb\n",
      "  Attempting uninstall: urllib3\n",
      "    Found existing installation: urllib3 1.24.3\n",
      "    Uninstalling urllib3-1.24.3:\n",
      "      Successfully uninstalled urllib3-1.24.3\n",
      "\u001b[31mERROR: pip's dependency resolver does not currently take into account all the packages that are installed. This behaviour is the source of the following dependency conflicts.\n",
      "datascience 0.10.6 requires folium==0.2.1, but you have folium 0.8.3 which is incompatible.\u001b[0m\n",
      "Successfully installed aiobotocore-2.3.3 aiohttp-3.8.1 aioitertools-0.10.0 aiosignal-1.2.0 async-timeout-4.0.2 asynctest-0.13.0 botocore-1.24.21 frozenlist-1.3.0 fsspec-2022.5.0 jmespath-1.0.1 multidict-6.0.2 s3fs-2022.5.0 urllib3-1.25.11 vitaldb-1.0.1 yarl-1.7.2\n"
     ]
    }
   ],
   "source": [
    "!pip install vitaldb"
   ]
  },
  {
   "cell_type": "markdown",
   "metadata": {
    "id": "hI2a3YxAfzME"
   },
   "source": [
    "###Download sample vital files\n",
    "Download sample vital files from the VitalDB website using the command below."
   ]
  },
  {
   "cell_type": "code",
   "execution_count": 2,
   "metadata": {
    "colab": {
     "base_uri": "https://localhost:8080/"
    },
    "id": "jK_-H6WtUz_9",
    "outputId": "58478ba6-5577-4612-f012-a657d3cb7545"
   },
   "outputs": [
    {
     "name": "stdout",
     "output_type": "stream",
     "text": [
      "--2022-06-27 01:40:32--  https://vitaldb.net/samples.zip\n",
      "Resolving vitaldb.net (vitaldb.net)... 15.197.255.47\n",
      "Connecting to vitaldb.net (vitaldb.net)|15.197.255.47|:443... connected.\n",
      "HTTP request sent, awaiting response... 200 OK\n",
      "Length: 104335514 (100M) [application/zip]\n",
      "Saving to: ‘samples.zip’\n",
      "\n",
      "samples.zip         100%[===================>]  99.50M  30.8MB/s    in 3.4s    \n",
      "\n",
      "2022-06-27 01:40:36 (29.5 MB/s) - ‘samples.zip’ saved [104335514/104335514]\n",
      "\n",
      "Archive:  samples.zip\n",
      "  inflating: 1-1.vital               \n",
      "  inflating: 1-2.vital               \n",
      "  inflating: 1.vital                 \n",
      "  inflating: 2.vital                 \n",
      "  inflating: 3.vital                 \n",
      "  inflating: 4.vital                 \n"
     ]
    }
   ],
   "source": [
    "!wget https://vitaldb.net/samples.zip\n",
    "!unzip samples.zip"
   ]
  },
  {
   "cell_type": "markdown",
   "metadata": {
    "id": "EmgInduClfAR"
   },
   "source": [
    "## Vital File API\n",
    "The Vital File API provides easy functions (`vital_trks`, `vital_recs`) and class (`VitalFile`) for reading a track list and contents from a vital file."
   ]
  },
  {
   "cell_type": "markdown",
   "metadata": {
    "id": "IVniWCJAU7Wj"
   },
   "source": [
    "### Read the track list from a vital file\n",
    "You can read the track list from a vital file using `vital_trks` function."
   ]
  },
  {
   "cell_type": "code",
   "execution_count": 4,
   "metadata": {
    "colab": {
     "base_uri": "https://localhost:8080/"
    },
    "id": "oh_54t5FZkYM",
    "outputId": "1e1029f9-d27e-402d-9a0d-bdcd693480be"
   },
   "outputs": [
    {
     "data": {
      "text/plain": [
       "['EVENT',\n",
       " 'SNUADC/ART',\n",
       " 'SNUADC/ECG_II',\n",
       " 'SNUADC/ECG_V5',\n",
       " 'SNUADC/PLETH',\n",
       " 'Solar8000/HR',\n",
       " 'Solar8000/ST_I',\n",
       " 'Solar8000/ST_II',\n",
       " 'Solar8000/ST_III',\n",
       " 'Solar8000/ST_AVL',\n",
       " 'Solar8000/ST_AVR',\n",
       " 'Solar8000/ST_AVF',\n",
       " 'Solar8000/ART_MBP',\n",
       " 'Solar8000/ART_SBP',\n",
       " 'Solar8000/ART_DBP',\n",
       " 'Solar8000/PLETH_SPO2',\n",
       " 'Solar8000/PLETH_HR',\n",
       " 'Solar8000/BT',\n",
       " 'Solar8000/VENT_MAWP',\n",
       " 'Solar8000/ST_V5',\n",
       " 'Solar8000/NIBP_MBP',\n",
       " 'Solar8000/NIBP_SBP',\n",
       " 'Solar8000/NIBP_DBP',\n",
       " 'Solar8000/VENT_PIP',\n",
       " 'Solar8000/VENT_RR',\n",
       " 'Solar8000/VENT_MV',\n",
       " 'Solar8000/VENT_TV',\n",
       " 'Solar8000/VENT_PPLAT',\n",
       " 'Solar8000/GAS2_AGENT',\n",
       " 'Solar8000/GAS2_EXPIRED',\n",
       " 'Solar8000/GAS2_INSPIRED',\n",
       " 'Solar8000/ETCO2',\n",
       " 'Solar8000/INCO2',\n",
       " 'Solar8000/RR_CO2',\n",
       " 'Solar8000/FEO2',\n",
       " 'Solar8000/FIO2',\n",
       " 'Solar8000/VENT_INSP_TM',\n",
       " 'Solar8000/VENT_SET_TV',\n",
       " 'Solar8000/VENT_SET_PCP',\n",
       " 'Primus/CO2',\n",
       " 'Primus/AWP',\n",
       " 'Primus/INSP_SEVO',\n",
       " 'Primus/EXP_SEVO',\n",
       " 'Primus/PAMB_MBAR',\n",
       " 'Primus/MAWP_MBAR',\n",
       " 'Primus/MAC',\n",
       " 'Primus/VENT_LEAK',\n",
       " 'Primus/INCO2',\n",
       " 'Primus/ETCO2',\n",
       " 'Primus/FEO2',\n",
       " 'Primus/FIO2',\n",
       " 'Primus/FIN2O',\n",
       " 'Primus/FEN2O',\n",
       " 'Primus/SET_FIO2',\n",
       " 'Primus/SET_FRESH_FLOW',\n",
       " 'Primus/SET_AGE',\n",
       " 'Primus/PIP_MBAR',\n",
       " 'Primus/COMPLIANCE',\n",
       " 'Primus/PPLAT_MBAR',\n",
       " 'Primus/PEEP_MBAR',\n",
       " 'Primus/TV',\n",
       " 'Primus/MV',\n",
       " 'Primus/RR_CO2',\n",
       " 'Primus/SET_TV_L',\n",
       " 'Primus/SET_INSP_TM',\n",
       " 'Primus/SET_RR_IPPV',\n",
       " 'Primus/SET_INTER_PEEP',\n",
       " 'Primus/SET_PIP',\n",
       " 'Primus/SET_INSP_PAUSE',\n",
       " 'Primus/INSP_DES',\n",
       " 'Primus/EXP_DES',\n",
       " 'BIS/EEG1_WAV',\n",
       " 'BIS/EEG2_WAV',\n",
       " 'BIS/BIS',\n",
       " 'BIS/SQI',\n",
       " 'BIS/EMG',\n",
       " 'BIS/SR',\n",
       " 'BIS/SEF',\n",
       " 'BIS/TOTPOW']"
      ]
     },
     "execution_count": 4,
     "metadata": {},
     "output_type": "execute_result"
    }
   ],
   "source": [
    "import vitaldb\n",
    "trks = vitaldb.vital_trks('1.vital')\n",
    "trks"
   ]
  },
  {
   "cell_type": "markdown",
   "metadata": {
    "id": "XARQ3Zs1WVE7"
   },
   "source": [
    "### Read the samples in a vital file\n",
    "You can read the samples(values) in a vital file using `vital_recs` function. It returns the samples in a numpy array."
   ]
  },
  {
   "cell_type": "code",
   "execution_count": 5,
   "metadata": {
    "colab": {
     "base_uri": "https://localhost:8080/",
     "height": 659
    },
    "id": "qsQ-vSMpUjp5",
    "outputId": "c68970d1-b79c-4f5f-d45d-41d97299cbd7"
   },
   "outputs": [
    {
     "name": "stdout",
     "output_type": "stream",
     "text": [
      "[[         nan          nan]\n",
      " [         nan          nan]\n",
      " [         nan          nan]\n",
      " ...\n",
      " [ -0.09797144 -20.65918   ]\n",
      " [ -0.06834793  32.663483  ]\n",
      " [  0.45500422  -4.8598633 ]]\n"
     ]
    },
    {
     "data": {
      "image/png": "[encoded data removed]",
      "text/plain": [
       "<Figure size 1440x720 with 2 Axes>"
      ]
     },
     "metadata": {
      "needs_background": "light"
     },
     "output_type": "display_data"
    }
   ],
   "source": [
    "vals = vitaldb.vital_recs('1.vital', ['ECG_II','ART'], 1/100)\n",
    "print(vals)\n",
    "\n",
    "ecg = vals[:,0]\n",
    "art = vals[:,1]\n",
    "\n",
    "# plot\n",
    "import matplotlib.pyplot as plt\n",
    "plt.figure(figsize=(20,10))\n",
    "plt.subplot(211)\n",
    "plt.plot(ecg[110000:111000], color='g')\n",
    "plt.subplot(212)\n",
    "plt.plot(art[110000:111000], color='r')\n",
    "plt.show()"
   ]
  },
  {
   "cell_type": "markdown",
   "metadata": {
    "id": "UwgzMGYvXyIZ"
   },
   "source": [
    "### Create VitalFile object\n",
    "`VitalFile` class helps you read, write, and edit vital file easily and seamlessly. You can create `VitalFile` object by opening one or list of local or online vital file(s)."
   ]
  },
  {
   "cell_type": "code",
   "execution_count": 6,
   "metadata": {
    "colab": {
     "base_uri": "https://localhost:8080/"
    },
    "id": "9-769iObcIms",
    "outputId": "becae389-b76c-40f7-f05c-c92f54a52e71"
   },
   "outputs": [
    {
     "name": "stdout",
     "output_type": "stream",
     "text": [
      "duration 11542.097 seconds 79 tracks\n"
     ]
    }
   ],
   "source": [
    "vf = vitaldb.VitalFile('1.vital')\n",
    "print(f'duration {vf.dtend - vf.dtstart:.3f} seconds {len(vf.trks)} tracks')"
   ]
  },
  {
   "cell_type": "markdown",
   "metadata": {
    "id": "aq38cDeobuKO"
   },
   "source": [
    "You can even directly read the vital file online."
   ]
  },
  {
   "cell_type": "code",
   "execution_count": 7,
   "metadata": {
    "colab": {
     "base_uri": "https://localhost:8080/"
    },
    "id": "L5Fyv9l8biP6",
    "outputId": "036ae1d2-04bd-46cb-c2f7-e3b207e5f282"
   },
   "outputs": [
    {
     "name": "stdout",
     "output_type": "stream",
     "text": [
      "duration 11542.097 seconds 79 tracks\n"
     ]
    }
   ],
   "source": [
    "vf = vitaldb.VitalFile('https://vitaldb.net/1.vital')\n",
    "print(f'duration {vf.dtend - vf.dtstart:.3f} seconds {len(vf.trks)} tracks')"
   ]
  },
  {
   "cell_type": "markdown",
   "metadata": {
    "id": "dBz7vEL2bNb7"
   },
   "source": [
    "The code below create `VitalFile` object by merging two vital files.\n",
    "\n",
    "> Note: Only vital files within 2 days can be merged into one file."
   ]
  },
  {
   "cell_type": "code",
   "execution_count": 8,
   "metadata": {
    "colab": {
     "base_uri": "https://localhost:8080/"
    },
    "id": "IZmvNSBXaJ_e",
    "outputId": "1dd73cb8-39d0-4fc4-8b94-bd0d77916952"
   },
   "outputs": [
    {
     "name": "stdout",
     "output_type": "stream",
     "text": [
      "1-1 duration 3908.135 seconds 79 tracks\n",
      "1-2 duration 6621.162 seconds 79 tracks\n",
      "merged duration 11542.097 seconds 79 tracks\n"
     ]
    }
   ],
   "source": [
    "vf1 = vitaldb.VitalFile('1-1.vital')\n",
    "print(f'1-1 duration {vf1.dtend - vf1.dtstart:.3f} seconds {len(vf1.trks)} tracks')\n",
    "\n",
    "vf2 = vitaldb.VitalFile('1-2.vital')\n",
    "print(f'1-2 duration {vf2.dtend - vf2.dtstart:.3f} seconds {len(vf2.trks)} tracks')\n",
    "\n",
    "vf = vitaldb.VitalFile(['1-1.vital', '1-2.vital'])  # merged\n",
    "print(f'merged duration {vf.dtend - vf.dtstart:.3f} seconds {len(vf.trks)} tracks')"
   ]
  },
  {
   "cell_type": "markdown",
   "metadata": {
    "id": "GjPFDoI9fM4D"
   },
   "source": [
    "### Read information from the VitalFile object"
   ]
  },
  {
   "cell_type": "markdown",
   "metadata": {
    "id": "3NH19cpsdB8w"
   },
   "source": [
    "All information such as track list and measured samples are in the `vf` object. For example, you can get a list of track names using the `vf.get_track_names()` method or `vf.trks.keys()`."
   ]
  },
  {
   "cell_type": "code",
   "execution_count": 9,
   "metadata": {
    "colab": {
     "base_uri": "https://localhost:8080/"
    },
    "id": "5EVoYx14dBCP",
    "outputId": "15355724-a2ca-4f25-e42d-b7b4aea174f9"
   },
   "outputs": [
    {
     "data": {
      "text/plain": [
       "['SNUADC/ART',\n",
       " 'SNUADC/ECG_II',\n",
       " 'SNUADC/ECG_V5',\n",
       " 'SNUADC/PLETH',\n",
       " 'Primus/CO2',\n",
       " 'Primus/AWP',\n",
       " 'Primus/INSP_SEVO',\n",
       " 'Primus/EXP_SEVO',\n",
       " 'Primus/PAMB_MBAR',\n",
       " 'Primus/MAWP_MBAR',\n",
       " 'Primus/MAC',\n",
       " 'Primus/VENT_LEAK',\n",
       " 'Primus/INCO2',\n",
       " 'Primus/ETCO2',\n",
       " 'Primus/FEO2',\n",
       " 'Primus/FIO2',\n",
       " 'Primus/FIN2O',\n",
       " 'Primus/FEN2O',\n",
       " 'Primus/SET_FIO2',\n",
       " 'Primus/SET_FRESH_FLOW',\n",
       " 'Primus/SET_AGE',\n",
       " 'Primus/PIP_MBAR',\n",
       " 'Primus/COMPLIANCE',\n",
       " 'Primus/PPLAT_MBAR',\n",
       " 'Primus/PEEP_MBAR',\n",
       " 'Primus/TV',\n",
       " 'Primus/MV',\n",
       " 'Primus/RR_CO2',\n",
       " 'Primus/SET_TV_L',\n",
       " 'Primus/SET_INSP_TM',\n",
       " 'Primus/SET_RR_IPPV',\n",
       " 'Primus/SET_INTER_PEEP',\n",
       " 'Primus/SET_PIP',\n",
       " 'Primus/SET_INSP_PAUSE',\n",
       " 'Primus/INSP_DES',\n",
       " 'Primus/EXP_DES',\n",
       " 'BIS/EEG1_WAV',\n",
       " 'BIS/EEG2_WAV',\n",
       " 'BIS/BIS',\n",
       " 'BIS/SQI',\n",
       " 'BIS/EMG',\n",
       " 'BIS/SR',\n",
       " 'BIS/SEF',\n",
       " 'BIS/TOTPOW',\n",
       " 'Solar8000/HR',\n",
       " 'Solar8000/ST_I',\n",
       " 'Solar8000/ST_II',\n",
       " 'Solar8000/ST_III',\n",
       " 'Solar8000/ST_AVL',\n",
       " 'Solar8000/ST_AVR',\n",
       " 'Solar8000/ST_AVF',\n",
       " 'Solar8000/ART_MBP',\n",
       " 'Solar8000/ART_SBP',\n",
       " 'Solar8000/ART_DBP',\n",
       " 'Solar8000/PLETH_SPO2',\n",
       " 'Solar8000/PLETH_HR',\n",
       " 'Solar8000/BT',\n",
       " 'Solar8000/VENT_MAWP',\n",
       " 'Solar8000/ST_V5',\n",
       " 'Solar8000/NIBP_MBP',\n",
       " 'Solar8000/NIBP_SBP',\n",
       " 'Solar8000/NIBP_DBP',\n",
       " 'Solar8000/VENT_PIP',\n",
       " 'Solar8000/VENT_RR',\n",
       " 'Solar8000/VENT_MV',\n",
       " 'Solar8000/VENT_TV',\n",
       " 'Solar8000/VENT_PPLAT',\n",
       " 'Solar8000/GAS2_AGENT',\n",
       " 'Solar8000/GAS2_EXPIRED',\n",
       " 'Solar8000/GAS2_INSPIRED',\n",
       " 'Solar8000/ETCO2',\n",
       " 'Solar8000/INCO2',\n",
       " 'Solar8000/RR_CO2',\n",
       " 'Solar8000/FEO2',\n",
       " 'Solar8000/FIO2',\n",
       " 'Solar8000/VENT_INSP_TM',\n",
       " 'Solar8000/VENT_SET_TV',\n",
       " 'Solar8000/VENT_SET_PCP',\n",
       " 'EVENT']"
      ]
     },
     "execution_count": 9,
     "metadata": {},
     "output_type": "execute_result"
    }
   ],
   "source": [
    "vf.get_track_names()"
   ]
  },
  {
   "cell_type": "markdown",
   "metadata": {
    "id": "PkGaO65Fdg9s"
   },
   "source": [
    "### Read samples from the VitalFile object\n",
    "You can read the samples using `to_numpy()` method which will give you the same results with `vitaldb.vital_recs()`."
   ]
  },
  {
   "cell_type": "code",
   "execution_count": 10,
   "metadata": {
    "colab": {
     "base_uri": "https://localhost:8080/"
    },
    "id": "8uWxgPWudtFZ",
    "outputId": "0b078265-15aa-4267-daa4-54bea567ddd1"
   },
   "outputs": [
    {
     "data": {
      "text/plain": [
       "array([[         nan,          nan],\n",
       "       [         nan,          nan],\n",
       "       [         nan,          nan],\n",
       "       ...,\n",
       "       [ -0.09797144, -20.65918   ],\n",
       "       [ -0.06834793,  32.663483  ],\n",
       "       [  0.45500422,  -4.8598633 ]], dtype=float32)"
      ]
     },
     "execution_count": 10,
     "metadata": {},
     "output_type": "execute_result"
    }
   ],
   "source": [
    "vf.to_numpy(['ECG_II','ART'], 1/100)"
   ]
  },
  {
   "cell_type": "markdown",
   "metadata": {
    "id": "4aw1kKSnj-m-"
   },
   "source": [
    "You can get the samples as a pandas DataFrame using `to_pandas()` method."
   ]
  },
  {
   "cell_type": "code",
   "execution_count": 11,
   "metadata": {
    "colab": {
     "base_uri": "https://localhost:8080/",
     "height": 424
    },
    "id": "vFRJZEhLkPb0",
    "outputId": "5d3b284b-c4a3-40e5-d1cf-f0e7b671d773"
   },
   "outputs": [
    {
     "data": {
      "text/html": [
       "\n",
       "  <div id=\"df-3ce91ff4-a174-4037-ac28-acc95371820d\">\n",
       "    <div class=\"colab-df-container\">\n",
       "      <div>\n",
       "<style scoped>\n",
       "    .dataframe tbody tr th:only-of-type {\n",
       "        vertical-align: middle;\n",
       "    }\n",
       "\n",
       "    .dataframe tbody tr th {\n",
       "        vertical-align: top;\n",
       "    }\n",
       "\n",
       "    .dataframe thead th {\n",
       "        text-align: right;\n",
       "    }\n",
       "</style>\n",
       "<table border=\"1\" class=\"dataframe\">\n",
       "  <thead>\n",
       "    <tr style=\"text-align: right;\">\n",
       "      <th></th>\n",
       "      <th>Time</th>\n",
       "      <th>ECG_II</th>\n",
       "      <th>ART</th>\n",
       "    </tr>\n",
       "  </thead>\n",
       "  <tbody>\n",
       "    <tr>\n",
       "      <th>0</th>\n",
       "      <td>2100-01-01 00:00:00+00:00</td>\n",
       "      <td>NaN</td>\n",
       "      <td>NaN</td>\n",
       "    </tr>\n",
       "    <tr>\n",
       "      <th>1</th>\n",
       "      <td>2100-01-01 00:00:00.010000+00:00</td>\n",
       "      <td>NaN</td>\n",
       "      <td>NaN</td>\n",
       "    </tr>\n",
       "    <tr>\n",
       "      <th>2</th>\n",
       "      <td>2100-01-01 00:00:00.020000+00:00</td>\n",
       "      <td>NaN</td>\n",
       "      <td>NaN</td>\n",
       "    </tr>\n",
       "    <tr>\n",
       "      <th>3</th>\n",
       "      <td>2100-01-01 00:00:00.030000+00:00</td>\n",
       "      <td>NaN</td>\n",
       "      <td>NaN</td>\n",
       "    </tr>\n",
       "    <tr>\n",
       "      <th>4</th>\n",
       "      <td>2100-01-01 00:00:00.040000+00:00</td>\n",
       "      <td>NaN</td>\n",
       "      <td>NaN</td>\n",
       "    </tr>\n",
       "    <tr>\n",
       "      <th>...</th>\n",
       "      <td>...</td>\n",
       "      <td>...</td>\n",
       "      <td>...</td>\n",
       "    </tr>\n",
       "    <tr>\n",
       "      <th>1154205</th>\n",
       "      <td>2100-01-01 03:12:22.050000+00:00</td>\n",
       "      <td>-0.413958</td>\n",
       "      <td>5.014709</td>\n",
       "    </tr>\n",
       "    <tr>\n",
       "      <th>1154206</th>\n",
       "      <td>2100-01-01 03:12:22.060000+00:00</td>\n",
       "      <td>0.366133</td>\n",
       "      <td>4.027252</td>\n",
       "    </tr>\n",
       "    <tr>\n",
       "      <th>1154207</th>\n",
       "      <td>2100-01-01 03:12:22.070000+00:00</td>\n",
       "      <td>-0.097971</td>\n",
       "      <td>-20.65918</td>\n",
       "    </tr>\n",
       "    <tr>\n",
       "      <th>1154208</th>\n",
       "      <td>2100-01-01 03:12:22.080000+00:00</td>\n",
       "      <td>-0.068348</td>\n",
       "      <td>32.663483</td>\n",
       "    </tr>\n",
       "    <tr>\n",
       "      <th>1154209</th>\n",
       "      <td>2100-01-01 03:12:22.090000+00:00</td>\n",
       "      <td>0.455004</td>\n",
       "      <td>-4.859863</td>\n",
       "    </tr>\n",
       "  </tbody>\n",
       "</table>\n",
       "<p>1154210 rows × 3 columns</p>\n",
       "</div>\n",
       "      <button class=\"colab-df-convert\" onclick=\"convertToInteractive('df-3ce91ff4-a174-4037-ac28-acc95371820d')\"\n",
       "              title=\"Convert this dataframe to an interactive table.\"\n",
       "              style=\"display:none;\">\n",
       "        \n",
       "  <svg xmlns=\"http://www.w3.org/2000/svg\" height=\"24px\"viewBox=\"0 0 24 24\"\n",
       "       width=\"24px\">\n",
       "    <path d=\"M0 0h24v24H0V0z\" fill=\"none\"/>\n",
       "    <path d=\"M18.56 5.44l.94 2.06.94-2.06 2.06-.94-2.06-.94-.94-2.06-.94 2.06-2.06.94zm-11 1L8.5 8.5l.94-2.06 2.06-.94-2.06-.94L8.5 2.5l-.94 2.06-2.06.94zm10 10l.94 2.06.94-2.06 2.06-.94-2.06-.94-.94-2.06-.94 2.06-2.06.94z\"/><path d=\"M17.41 7.96l-1.37-1.37c-.4-.4-.92-.59-1.43-.59-.52 0-1.04.2-1.43.59L10.3 9.45l-7.72 7.72c-.78.78-.78 2.05 0 2.83L4 21.41c.39.39.9.59 1.41.59.51 0 1.02-.2 1.41-.59l7.78-7.78 2.81-2.81c.8-.78.8-2.07 0-2.86zM5.41 20L4 18.59l7.72-7.72 1.47 1.35L5.41 20z\"/>\n",
       "  </svg>\n",
       "      </button>\n",
       "      \n",
       "  <style>\n",
       "    .colab-df-container {\n",
       "      display:flex;\n",
       "      flex-wrap:wrap;\n",
       "      gap: 12px;\n",
       "    }\n",
       "\n",
       "    .colab-df-convert {\n",
       "      background-color: #E8F0FE;\n",
       "      border: none;\n",
       "      border-radius: 50%;\n",
       "      cursor: pointer;\n",
       "      display: none;\n",
       "      fill: #1967D2;\n",
       "      height: 32px;\n",
       "      padding: 0 0 0 0;\n",
       "      width: 32px;\n",
       "    }\n",
       "\n",
       "    .colab-df-convert:hover {\n",
       "      background-color: #E2EBFA;\n",
       "      box-shadow: 0px 1px 2px rgba(60, 64, 67, 0.3), 0px 1px 3px 1px rgba(60, 64, 67, 0.15);\n",
       "      fill: #174EA6;\n",
       "    }\n",
       "\n",
       "    [theme=dark] .colab-df-convert {\n",
       "      background-color: #3B4455;\n",
       "      fill: #D2E3FC;\n",
       "    }\n",
       "\n",
       "    [theme=dark] .colab-df-convert:hover {\n",
       "      background-color: #434B5C;\n",
       "      box-shadow: 0px 1px 3px 1px rgba(0, 0, 0, 0.15);\n",
       "      filter: drop-shadow(0px 1px 2px rgba(0, 0, 0, 0.3));\n",
       "      fill: #FFFFFF;\n",
       "    }\n",
       "  </style>\n",
       "\n",
       "      <script>\n",
       "        const buttonEl =\n",
       "          document.querySelector('#df-3ce91ff4-a174-4037-ac28-acc95371820d button.colab-df-convert');\n",
       "        buttonEl.style.display =\n",
       "          google.colab.kernel.accessAllowed ? 'block' : 'none';\n",
       "\n",
       "        async function convertToInteractive(key) {\n",
       "          const element = document.querySelector('#df-3ce91ff4-a174-4037-ac28-acc95371820d');\n",
       "          const dataTable =\n",
       "            await google.colab.kernel.invokeFunction('convertToInteractive',\n",
       "                                                     [key], {});\n",
       "          if (!dataTable) return;\n",
       "\n",
       "          const docLinkHtml = 'Like what you see? Visit the ' +\n",
       "            '<a target=\"_blank\" href=https://colab.research.google.com/notebooks/data_table.ipynb>data table notebook</a>'\n",
       "            + ' to learn more about interactive tables.';\n",
       "          element.innerHTML = '';\n",
       "          dataTable['output_type'] = 'display_data';\n",
       "          await google.colab.output.renderOutput(dataTable, element);\n",
       "          const docLink = document.createElement('div');\n",
       "          docLink.innerHTML = docLinkHtml;\n",
       "          element.appendChild(docLink);\n",
       "        }\n",
       "      </script>\n",
       "    </div>\n",
       "  </div>\n",
       "  "
      ],
      "text/plain": [
       "                                    Time    ECG_II        ART\n",
       "0              2100-01-01 00:00:00+00:00       NaN        NaN\n",
       "1       2100-01-01 00:00:00.010000+00:00       NaN        NaN\n",
       "2       2100-01-01 00:00:00.020000+00:00       NaN        NaN\n",
       "3       2100-01-01 00:00:00.030000+00:00       NaN        NaN\n",
       "4       2100-01-01 00:00:00.040000+00:00       NaN        NaN\n",
       "...                                  ...       ...        ...\n",
       "1154205 2100-01-01 03:12:22.050000+00:00 -0.413958   5.014709\n",
       "1154206 2100-01-01 03:12:22.060000+00:00  0.366133   4.027252\n",
       "1154207 2100-01-01 03:12:22.070000+00:00 -0.097971  -20.65918\n",
       "1154208 2100-01-01 03:12:22.080000+00:00 -0.068348  32.663483\n",
       "1154209 2100-01-01 03:12:22.090000+00:00  0.455004  -4.859863\n",
       "\n",
       "[1154210 rows x 3 columns]"
      ]
     },
     "execution_count": 11,
     "metadata": {},
     "output_type": "execute_result"
    }
   ],
   "source": [
    "df = vf.to_pandas(['ECG_II', 'ART'], 1/100, return_datetime=True)\n",
    "df"
   ]
  },
  {
   "cell_type": "markdown",
   "metadata": {
    "id": "IqvPw8dQt-PW"
   },
   "source": [
    "### Edit VitalFile object\n",
    "You can edit VitalFile object. For example, you can crop it, remove or rename tracks and devices."
   ]
  },
  {
   "cell_type": "code",
   "execution_count": 12,
   "metadata": {
    "colab": {
     "base_uri": "https://localhost:8080/"
    },
    "id": "8uzf2y92uT2j",
    "outputId": "920548ba-f932-4149-9be6-b61ad226511d"
   },
   "outputs": [
    {
     "name": "stdout",
     "output_type": "stream",
     "text": [
      "original duration 11542.097 seconds 79 tracks\n",
      "cropped duration 7882.097 seconds 79 tracks\n",
      "track removed duration 7882.097 seconds 79 tracks\n"
     ]
    }
   ],
   "source": [
    "print(f'original duration {vf.dtend - vf.dtstart:.3f} seconds {len(vf.trks)} tracks')\n",
    "vf.crop(vf.get_dt(2100, 1, 1, 1))  # remove samples before 2100 Jan 1, 1AM\n",
    "vf.crop(60)  # remove samples within 60 sec from the beginning\n",
    "print(f'cropped duration {vf.dtend - vf.dtstart:.3f} seconds {len(vf.trks)} tracks')\n",
    "\n",
    "vf.remove_tracks(['ECG_FIVE'])\n",
    "print(f'track removed duration {vf.dtend - vf.dtstart:.3f} seconds {len(vf.trks)} tracks')\n",
    "\n",
    "vf.rename_tracks({'ECG_II': 'ECG_TWO', 'ECG_V5': 'ECG_FIVE'})\n",
    "vf.rename_device('SNUADC', 'SUPER_NICE_ADC')"
   ]
  },
  {
   "cell_type": "markdown",
   "metadata": {
    "id": "ogWGHQ5lfZP2"
   },
   "source": [
    "### Save the VitalFile object to vital file\n",
    "To save `VitalFile` object to vital file, call `to_vital()` with the file path to save."
   ]
  },
  {
   "cell_type": "code",
   "execution_count": null,
   "metadata": {
    "colab": {
     "base_uri": "https://localhost:8080/"
    },
    "id": "4tLbry76e3qr",
    "outputId": "6227eb13-5e7c-48ec-97c9-a67997aca7bb"
   },
   "outputs": [
    {
     "data": {
      "text/plain": [
       "True"
      ]
     },
     "execution_count": 13,
     "metadata": {},
     "output_type": "execute_result"
    }
   ],
   "source": [
    "vf.to_vital('1_copyed.vital')"
   ]
  },
  {
   "cell_type": "markdown",
   "metadata": {
    "id": "wKlN4U3miUee"
   },
   "source": [
    "### Save the VitalFile object to csv file"
   ]
  },
  {
   "cell_type": "code",
   "execution_count": null,
   "metadata": {
    "colab": {
     "base_uri": "https://localhost:8080/",
     "height": 424
    },
    "id": "r9ff2be7lmG1",
    "outputId": "44f4eade-1351-429a-82d7-50e5b831c83f"
   },
   "outputs": [
    {
     "data": {
      "text/html": [
       "\n",
       "  <div id=\"df-89a55cf8-1ffc-42d7-a361-98d8877d8621\">\n",
       "    <div class=\"colab-df-container\">\n",
       "      <div>\n",
       "<style scoped>\n",
       "    .dataframe tbody tr th:only-of-type {\n",
       "        vertical-align: middle;\n",
       "    }\n",
       "\n",
       "    .dataframe tbody tr th {\n",
       "        vertical-align: top;\n",
       "    }\n",
       "\n",
       "    .dataframe thead th {\n",
       "        text-align: right;\n",
       "    }\n",
       "</style>\n",
       "<table border=\"1\" class=\"dataframe\">\n",
       "  <thead>\n",
       "    <tr style=\"text-align: right;\">\n",
       "      <th></th>\n",
       "      <th>Time</th>\n",
       "      <th>ECG_II</th>\n",
       "      <th>ART</th>\n",
       "    </tr>\n",
       "  </thead>\n",
       "  <tbody>\n",
       "    <tr>\n",
       "      <th>0</th>\n",
       "      <td>2100-01-01 00:01:00+00:00</td>\n",
       "      <td>NaN</td>\n",
       "      <td>NaN</td>\n",
       "    </tr>\n",
       "    <tr>\n",
       "      <th>1</th>\n",
       "      <td>2100-01-01 00:01:00.010000+00:00</td>\n",
       "      <td>NaN</td>\n",
       "      <td>NaN</td>\n",
       "    </tr>\n",
       "    <tr>\n",
       "      <th>2</th>\n",
       "      <td>2100-01-01 00:01:00.020000+00:00</td>\n",
       "      <td>NaN</td>\n",
       "      <td>NaN</td>\n",
       "    </tr>\n",
       "    <tr>\n",
       "      <th>3</th>\n",
       "      <td>2100-01-01 00:01:00.030000+00:00</td>\n",
       "      <td>NaN</td>\n",
       "      <td>NaN</td>\n",
       "    </tr>\n",
       "    <tr>\n",
       "      <th>4</th>\n",
       "      <td>2100-01-01 00:01:00.040000+00:00</td>\n",
       "      <td>NaN</td>\n",
       "      <td>NaN</td>\n",
       "    </tr>\n",
       "    <tr>\n",
       "      <th>...</th>\n",
       "      <td>...</td>\n",
       "      <td>...</td>\n",
       "      <td>...</td>\n",
       "    </tr>\n",
       "    <tr>\n",
       "      <th>1148205</th>\n",
       "      <td>2100-01-01 03:12:22.050000+00:00</td>\n",
       "      <td>-0.413958</td>\n",
       "      <td>5.014709</td>\n",
       "    </tr>\n",
       "    <tr>\n",
       "      <th>1148206</th>\n",
       "      <td>2100-01-01 03:12:22.060000+00:00</td>\n",
       "      <td>0.366133</td>\n",
       "      <td>4.027252</td>\n",
       "    </tr>\n",
       "    <tr>\n",
       "      <th>1148207</th>\n",
       "      <td>2100-01-01 03:12:22.070000+00:00</td>\n",
       "      <td>-0.097971</td>\n",
       "      <td>-20.659180</td>\n",
       "    </tr>\n",
       "    <tr>\n",
       "      <th>1148208</th>\n",
       "      <td>2100-01-01 03:12:22.080000+00:00</td>\n",
       "      <td>-0.068348</td>\n",
       "      <td>32.663483</td>\n",
       "    </tr>\n",
       "    <tr>\n",
       "      <th>1148209</th>\n",
       "      <td>2100-01-01 03:12:22.090000+00:00</td>\n",
       "      <td>0.455004</td>\n",
       "      <td>-4.859863</td>\n",
       "    </tr>\n",
       "  </tbody>\n",
       "</table>\n",
       "<p>1148210 rows × 3 columns</p>\n",
       "</div>\n",
       "      <button class=\"colab-df-convert\" onclick=\"convertToInteractive('df-89a55cf8-1ffc-42d7-a361-98d8877d8621')\"\n",
       "              title=\"Convert this dataframe to an interactive table.\"\n",
       "              style=\"display:none;\">\n",
       "        \n",
       "  <svg xmlns=\"http://www.w3.org/2000/svg\" height=\"24px\"viewBox=\"0 0 24 24\"\n",
       "       width=\"24px\">\n",
       "    <path d=\"M0 0h24v24H0V0z\" fill=\"none\"/>\n",
       "    <path d=\"M18.56 5.44l.94 2.06.94-2.06 2.06-.94-2.06-.94-.94-2.06-.94 2.06-2.06.94zm-11 1L8.5 8.5l.94-2.06 2.06-.94-2.06-.94L8.5 2.5l-.94 2.06-2.06.94zm10 10l.94 2.06.94-2.06 2.06-.94-2.06-.94-.94-2.06-.94 2.06-2.06.94z\"/><path d=\"M17.41 7.96l-1.37-1.37c-.4-.4-.92-.59-1.43-.59-.52 0-1.04.2-1.43.59L10.3 9.45l-7.72 7.72c-.78.78-.78 2.05 0 2.83L4 21.41c.39.39.9.59 1.41.59.51 0 1.02-.2 1.41-.59l7.78-7.78 2.81-2.81c.8-.78.8-2.07 0-2.86zM5.41 20L4 18.59l7.72-7.72 1.47 1.35L5.41 20z\"/>\n",
       "  </svg>\n",
       "      </button>\n",
       "      \n",
       "  <style>\n",
       "    .colab-df-container {\n",
       "      display:flex;\n",
       "      flex-wrap:wrap;\n",
       "      gap: 12px;\n",
       "    }\n",
       "\n",
       "    .colab-df-convert {\n",
       "      background-color: #E8F0FE;\n",
       "      border: none;\n",
       "      border-radius: 50%;\n",
       "      cursor: pointer;\n",
       "      display: none;\n",
       "      fill: #1967D2;\n",
       "      height: 32px;\n",
       "      padding: 0 0 0 0;\n",
       "      width: 32px;\n",
       "    }\n",
       "\n",
       "    .colab-df-convert:hover {\n",
       "      background-color: #E2EBFA;\n",
       "      box-shadow: 0px 1px 2px rgba(60, 64, 67, 0.3), 0px 1px 3px 1px rgba(60, 64, 67, 0.15);\n",
       "      fill: #174EA6;\n",
       "    }\n",
       "\n",
       "    [theme=dark] .colab-df-convert {\n",
       "      background-color: #3B4455;\n",
       "      fill: #D2E3FC;\n",
       "    }\n",
       "\n",
       "    [theme=dark] .colab-df-convert:hover {\n",
       "      background-color: #434B5C;\n",
       "      box-shadow: 0px 1px 3px 1px rgba(0, 0, 0, 0.15);\n",
       "      filter: drop-shadow(0px 1px 2px rgba(0, 0, 0, 0.3));\n",
       "      fill: #FFFFFF;\n",
       "    }\n",
       "  </style>\n",
       "\n",
       "      <script>\n",
       "        const buttonEl =\n",
       "          document.querySelector('#df-89a55cf8-1ffc-42d7-a361-98d8877d8621 button.colab-df-convert');\n",
       "        buttonEl.style.display =\n",
       "          google.colab.kernel.accessAllowed ? 'block' : 'none';\n",
       "\n",
       "        async function convertToInteractive(key) {\n",
       "          const element = document.querySelector('#df-89a55cf8-1ffc-42d7-a361-98d8877d8621');\n",
       "          const dataTable =\n",
       "            await google.colab.kernel.invokeFunction('convertToInteractive',\n",
       "                                                     [key], {});\n",
       "          if (!dataTable) return;\n",
       "\n",
       "          const docLinkHtml = 'Like what you see? Visit the ' +\n",
       "            '<a target=\"_blank\" href=https://colab.research.google.com/notebooks/data_table.ipynb>data table notebook</a>'\n",
       "            + ' to learn more about interactive tables.';\n",
       "          element.innerHTML = '';\n",
       "          dataTable['output_type'] = 'display_data';\n",
       "          await google.colab.output.renderOutput(dataTable, element);\n",
       "          const docLink = document.createElement('div');\n",
       "          docLink.innerHTML = docLinkHtml;\n",
       "          element.appendChild(docLink);\n",
       "        }\n",
       "      </script>\n",
       "    </div>\n",
       "  </div>\n",
       "  "
      ],
      "text/plain": [
       "                                     Time    ECG_II        ART\n",
       "0               2100-01-01 00:01:00+00:00       NaN        NaN\n",
       "1        2100-01-01 00:01:00.010000+00:00       NaN        NaN\n",
       "2        2100-01-01 00:01:00.020000+00:00       NaN        NaN\n",
       "3        2100-01-01 00:01:00.030000+00:00       NaN        NaN\n",
       "4        2100-01-01 00:01:00.040000+00:00       NaN        NaN\n",
       "...                                   ...       ...        ...\n",
       "1148205  2100-01-01 03:12:22.050000+00:00 -0.413958   5.014709\n",
       "1148206  2100-01-01 03:12:22.060000+00:00  0.366133   4.027252\n",
       "1148207  2100-01-01 03:12:22.070000+00:00 -0.097971 -20.659180\n",
       "1148208  2100-01-01 03:12:22.080000+00:00 -0.068348  32.663483\n",
       "1148209  2100-01-01 03:12:22.090000+00:00  0.455004  -4.859863\n",
       "\n",
       "[1148210 rows x 3 columns]"
      ]
     },
     "execution_count": 14,
     "metadata": {},
     "output_type": "execute_result"
    }
   ],
   "source": [
    "vf.to_csv('1.csv', ['ECG_II', 'ART'], 1/100, return_datetime=True)\n",
    "\n",
    "import pandas as pd\n",
    "pd.read_csv('1.csv')"
   ]
  },
  {
   "cell_type": "markdown",
   "metadata": {
    "id": "TA_SAsyTggDN"
   },
   "source": [
    "### Batch extraction of specific tracks from multiple vital files\n",
    "The code below explains how to extract tracks from several vital files in the specific folder and save them with csv file format."
   ]
  },
  {
   "cell_type": "code",
   "execution_count": null,
   "metadata": {
    "colab": {
     "base_uri": "https://localhost:8080/",
     "height": 552
    },
    "id": "4SgDfHe1jphi",
    "outputId": "acbd8c09-10cf-45b2-aee6-5f0cf099b49b"
   },
   "outputs": [
    {
     "name": "stdout",
     "output_type": "stream",
     "text": [
      "converting:1-1.vital...done\n",
      "converting:2.vital...done\n",
      "converting:3.vital...done\n",
      "converting:1.vital...done\n",
      "converting:1-2.vital...done\n",
      "converting:4.vital...done\n",
      "converting:1_copyed.vital...done\n"
     ]
    },
    {
     "data": {
      "text/html": [
       "\n",
       "  <div id=\"df-92ea3e9e-418e-4895-8e27-3ee1c794ddb0\">\n",
       "    <div class=\"colab-df-container\">\n",
       "      <div>\n",
       "<style scoped>\n",
       "    .dataframe tbody tr th:only-of-type {\n",
       "        vertical-align: middle;\n",
       "    }\n",
       "\n",
       "    .dataframe tbody tr th {\n",
       "        vertical-align: top;\n",
       "    }\n",
       "\n",
       "    .dataframe thead th {\n",
       "        text-align: right;\n",
       "    }\n",
       "</style>\n",
       "<table border=\"1\" class=\"dataframe\">\n",
       "  <thead>\n",
       "    <tr style=\"text-align: right;\">\n",
       "      <th></th>\n",
       "      <th>ECG_II</th>\n",
       "      <th>ART</th>\n",
       "    </tr>\n",
       "  </thead>\n",
       "  <tbody>\n",
       "    <tr>\n",
       "      <th>0</th>\n",
       "      <td>NaN</td>\n",
       "      <td>NaN</td>\n",
       "    </tr>\n",
       "    <tr>\n",
       "      <th>1</th>\n",
       "      <td>NaN</td>\n",
       "      <td>NaN</td>\n",
       "    </tr>\n",
       "    <tr>\n",
       "      <th>2</th>\n",
       "      <td>NaN</td>\n",
       "      <td>NaN</td>\n",
       "    </tr>\n",
       "    <tr>\n",
       "      <th>3</th>\n",
       "      <td>NaN</td>\n",
       "      <td>NaN</td>\n",
       "    </tr>\n",
       "    <tr>\n",
       "      <th>4</th>\n",
       "      <td>NaN</td>\n",
       "      <td>NaN</td>\n",
       "    </tr>\n",
       "    <tr>\n",
       "      <th>...</th>\n",
       "      <td>...</td>\n",
       "      <td>...</td>\n",
       "    </tr>\n",
       "    <tr>\n",
       "      <th>1154205</th>\n",
       "      <td>-0.413958</td>\n",
       "      <td>5.014710</td>\n",
       "    </tr>\n",
       "    <tr>\n",
       "      <th>1154206</th>\n",
       "      <td>0.366133</td>\n",
       "      <td>4.027252</td>\n",
       "    </tr>\n",
       "    <tr>\n",
       "      <th>1154207</th>\n",
       "      <td>-0.097971</td>\n",
       "      <td>-20.659180</td>\n",
       "    </tr>\n",
       "    <tr>\n",
       "      <th>1154208</th>\n",
       "      <td>-0.068348</td>\n",
       "      <td>32.663483</td>\n",
       "    </tr>\n",
       "    <tr>\n",
       "      <th>1154209</th>\n",
       "      <td>0.455004</td>\n",
       "      <td>-4.859863</td>\n",
       "    </tr>\n",
       "  </tbody>\n",
       "</table>\n",
       "<p>1154210 rows × 2 columns</p>\n",
       "</div>\n",
       "      <button class=\"colab-df-convert\" onclick=\"convertToInteractive('df-92ea3e9e-418e-4895-8e27-3ee1c794ddb0')\"\n",
       "              title=\"Convert this dataframe to an interactive table.\"\n",
       "              style=\"display:none;\">\n",
       "        \n",
       "  <svg xmlns=\"http://www.w3.org/2000/svg\" height=\"24px\"viewBox=\"0 0 24 24\"\n",
       "       width=\"24px\">\n",
       "    <path d=\"M0 0h24v24H0V0z\" fill=\"none\"/>\n",
       "    <path d=\"M18.56 5.44l.94 2.06.94-2.06 2.06-.94-2.06-.94-.94-2.06-.94 2.06-2.06.94zm-11 1L8.5 8.5l.94-2.06 2.06-.94-2.06-.94L8.5 2.5l-.94 2.06-2.06.94zm10 10l.94 2.06.94-2.06 2.06-.94-2.06-.94-.94-2.06-.94 2.06-2.06.94z\"/><path d=\"M17.41 7.96l-1.37-1.37c-.4-.4-.92-.59-1.43-.59-.52 0-1.04.2-1.43.59L10.3 9.45l-7.72 7.72c-.78.78-.78 2.05 0 2.83L4 21.41c.39.39.9.59 1.41.59.51 0 1.02-.2 1.41-.59l7.78-7.78 2.81-2.81c.8-.78.8-2.07 0-2.86zM5.41 20L4 18.59l7.72-7.72 1.47 1.35L5.41 20z\"/>\n",
       "  </svg>\n",
       "      </button>\n",
       "      \n",
       "  <style>\n",
       "    .colab-df-container {\n",
       "      display:flex;\n",
       "      flex-wrap:wrap;\n",
       "      gap: 12px;\n",
       "    }\n",
       "\n",
       "    .colab-df-convert {\n",
       "      background-color: #E8F0FE;\n",
       "      border: none;\n",
       "      border-radius: 50%;\n",
       "      cursor: pointer;\n",
       "      display: none;\n",
       "      fill: #1967D2;\n",
       "      height: 32px;\n",
       "      padding: 0 0 0 0;\n",
       "      width: 32px;\n",
       "    }\n",
       "\n",
       "    .colab-df-convert:hover {\n",
       "      background-color: #E2EBFA;\n",
       "      box-shadow: 0px 1px 2px rgba(60, 64, 67, 0.3), 0px 1px 3px 1px rgba(60, 64, 67, 0.15);\n",
       "      fill: #174EA6;\n",
       "    }\n",
       "\n",
       "    [theme=dark] .colab-df-convert {\n",
       "      background-color: #3B4455;\n",
       "      fill: #D2E3FC;\n",
       "    }\n",
       "\n",
       "    [theme=dark] .colab-df-convert:hover {\n",
       "      background-color: #434B5C;\n",
       "      box-shadow: 0px 1px 3px 1px rgba(0, 0, 0, 0.15);\n",
       "      filter: drop-shadow(0px 1px 2px rgba(0, 0, 0, 0.3));\n",
       "      fill: #FFFFFF;\n",
       "    }\n",
       "  </style>\n",
       "\n",
       "      <script>\n",
       "        const buttonEl =\n",
       "          document.querySelector('#df-92ea3e9e-418e-4895-8e27-3ee1c794ddb0 button.colab-df-convert');\n",
       "        buttonEl.style.display =\n",
       "          google.colab.kernel.accessAllowed ? 'block' : 'none';\n",
       "\n",
       "        async function convertToInteractive(key) {\n",
       "          const element = document.querySelector('#df-92ea3e9e-418e-4895-8e27-3ee1c794ddb0');\n",
       "          const dataTable =\n",
       "            await google.colab.kernel.invokeFunction('convertToInteractive',\n",
       "                                                     [key], {});\n",
       "          if (!dataTable) return;\n",
       "\n",
       "          const docLinkHtml = 'Like what you see? Visit the ' +\n",
       "            '<a target=\"_blank\" href=https://colab.research.google.com/notebooks/data_table.ipynb>data table notebook</a>'\n",
       "            + ' to learn more about interactive tables.';\n",
       "          element.innerHTML = '';\n",
       "          dataTable['output_type'] = 'display_data';\n",
       "          await google.colab.output.renderOutput(dataTable, element);\n",
       "          const docLink = document.createElement('div');\n",
       "          docLink.innerHTML = docLinkHtml;\n",
       "          element.appendChild(docLink);\n",
       "        }\n",
       "      </script>\n",
       "    </div>\n",
       "  </div>\n",
       "  "
      ],
      "text/plain": [
       "           ECG_II        ART\n",
       "0             NaN        NaN\n",
       "1             NaN        NaN\n",
       "2             NaN        NaN\n",
       "3             NaN        NaN\n",
       "4             NaN        NaN\n",
       "...           ...        ...\n",
       "1154205 -0.413958   5.014710\n",
       "1154206  0.366133   4.027252\n",
       "1154207 -0.097971 -20.659180\n",
       "1154208 -0.068348  32.663483\n",
       "1154209  0.455004  -4.859863\n",
       "\n",
       "[1154210 rows x 2 columns]"
      ]
     },
     "execution_count": 15,
     "metadata": {},
     "output_type": "execute_result"
    }
   ],
   "source": [
    "import os\n",
    "\n",
    "TRACK_NAMES = ['ECG_II', 'ART']\n",
    "for filename in os.listdir('.'):  # iterate files\n",
    "    if filename.endswith('.vital'):\n",
    "        print('converting:' + filename, end='...', flush=True)\n",
    "        vf = vitaldb.VitalFile(filename, TRACK_NAMES)  # read vital file\n",
    "        vf.to_csv(filename + '.csv.gz', TRACK_NAMES, 1/100)  # save as compressed csv\n",
    "        print('done')\n",
    "\n",
    "import pandas as pd\n",
    "pd.read_csv('1.vital.csv.gz')"
   ]
  },
  {
   "cell_type": "markdown",
   "metadata": {
    "id": "kjTvUx8BhH0r"
   },
   "source": [
    "## Platform API\n",
    "You can login, list, and download vital files from the VitalDB platform using the `vitaldb` Platform API."
   ]
  },
  {
   "cell_type": "code",
   "execution_count": null,
   "metadata": {
    "colab": {
     "base_uri": "https://localhost:8080/"
    },
    "id": "wD7i3z3LhsVn",
    "outputId": "332ec2d2-bf1e-4980-b4eb-af1f3d4b28d9"
   },
   "outputs": [
    {
     "name": "stdout",
     "output_type": "stream",
     "text": [
      "Downloading: TEST1_211020_142621.vital...done\n",
      "Downloading: TEST2_211019_102621.vital...done\n",
      "Downloading: TEST2_211020_101124.vital...done\n"
     ]
    }
   ],
   "source": [
    "# path to save downloaded files\n",
    "import os\n",
    "DOWNLOAD_DIR = \"download\"\n",
    "if not os.path.exists(DOWNLOAD_DIR):\n",
    "    os.mkdir(DOWNLOAD_DIR)\n",
    "\n",
    "if vitaldb.login(id=\"vitaldb_test\", pw=\"vitaldb_test\"):\n",
    "    for file in vitaldb.filelist(None, '2021-10-01'):\n",
    "        print(\"Downloading: \" + file['filename'], end='...', flush=True)\n",
    "        vitaldb.download(file['filename'], DOWNLOAD_DIR + '/' + file['filename'])\n",
    "        print('done')\n",
    "else:\n",
    "    print('login error')"
   ]
  },
  {
   "cell_type": "markdown",
   "metadata": {
    "id": "JG9qJHAdlQws"
   },
   "source": [
    "You can read the vital file directly from the server by not specifing the file path to the `vitaldb.download` method."
   ]
  },
  {
   "cell_type": "code",
   "execution_count": null,
   "metadata": {
    "colab": {
     "base_uri": "https://localhost:8080/"
    },
    "id": "iPgRJnp8leVo",
    "outputId": "7a5f01be-7307-4aca-fa73-e778a5ff453c"
   },
   "outputs": [
    {
     "name": "stdout",
     "output_type": "stream",
     "text": [
      "TEST1_211020_142621.vital...79 tracks\n"
     ]
    }
   ],
   "source": [
    "vitaldb.login(id=\"vitaldb_test\", pw=\"vitaldb_test\")\n",
    "filename = vitaldb.filelist()[0]['filename']\n",
    "print(filename, end='...', flush=True)\n",
    "\n",
    "# read the vital file directly from the server (no local file will be created)\n",
    "vf = vitaldb.VitalFile(vitaldb.download(filename))\n",
    "print(f'{len(vf.get_track_names())} tracks')"
   ]
  },
  {
   "cell_type": "markdown",
   "metadata": {
    "id": "PSrSBxyTpY7_"
   },
   "source": [
    "### For intranet server\n",
    "For intranet server, you can pass the host name and port number to the `vitaldb.login` function."
   ]
  },
  {
   "cell_type": "code",
   "execution_count": null,
   "metadata": {
    "id": "zHur5QU9jDXV"
   },
   "outputs": [],
   "source": [
    "# the code below will be executed only at SNUH\n",
    "vitaldb.login(id='admin', pw='pass', host='snuh.vitaldb.net', port=80)"
   ]
  },
  {
   "cell_type": "markdown",
   "metadata": {
    "id": "Oe3WAu3oem38"
   },
   "source": [
    "## Open Dataset API\n",
    "VitalDB python library also include the functions that support read VitalDB open dataset."
   ]
  },
  {
   "cell_type": "markdown",
   "metadata": {
    "id": "36dVA4UMYhOe"
   },
   "source": [
    "### Find cases in the VitalDB open dataset"
   ]
  },
  {
   "cell_type": "code",
   "execution_count": null,
   "metadata": {
    "colab": {
     "base_uri": "https://localhost:8080/"
    },
    "id": "5g-6tMedY14-",
    "outputId": "717f3113-74cd-4ad2-a724-35b4da741df8"
   },
   "outputs": [
    {
     "data": {
      "text/plain": [
       "3644"
      ]
     },
     "execution_count": 20,
     "metadata": {},
     "output_type": "execute_result"
    }
   ],
   "source": [
    "caseids = vitaldb.find_cases(['ECG_II', 'ART'])\n",
    "len(caseids)"
   ]
  },
  {
   "cell_type": "markdown",
   "metadata": {
    "id": "bxrktnXaXPQ7"
   },
   "source": [
    "### Read an open dataset case\n"
   ]
  },
  {
   "cell_type": "code",
   "execution_count": null,
   "metadata": {
    "colab": {
     "base_uri": "https://localhost:8080/",
     "height": 723
    },
    "id": "zSv9M0h7ZZuE",
    "outputId": "ea8cb12c-7daa-4123-ecf9-cf47fa91a330"
   },
   "outputs": [
    {
     "name": "stdout",
     "output_type": "stream",
     "text": [
      "[[       nan        nan]\n",
      " [       nan        nan]\n",
      " [       nan        nan]\n",
      " ...\n",
      " [  0.148893 -32.5087  ]\n",
      " [ -0.325087  19.8266  ]\n",
      " [       nan        nan]]\n"
     ]
    },
    {
     "data": {
      "image/png": "[encoded data removed]",
      "text/plain": [
       "<Figure size 1440x720 with 2 Axes>"
      ]
     },
     "metadata": {
      "needs_background": "light"
     },
     "output_type": "display_data"
    }
   ],
   "source": [
    "vals = vitaldb.load_case(caseids[0], ['ECG_II','ART'], 1/100)\n",
    "print(vals)\n",
    "\n",
    "ecg = vals[:,0]\n",
    "art = vals[:,1]\n",
    "\n",
    "# plot\n",
    "import matplotlib.pyplot as plt\n",
    "plt.figure(figsize=(20,10))\n",
    "plt.subplot(211)\n",
    "plt.plot(ecg[110000:111000], color='g')\n",
    "plt.subplot(212)\n",
    "plt.plot(art[110000:111000], color='r')\n",
    "plt.show()"
   ]
  },
  {
   "cell_type": "markdown",
   "metadata": {
    "id": "2ETIrPMJb4DQ"
   },
   "source": [
    "Same as `load_case` in the functional API, you can download the tracks from the VitalDB open dataset."
   ]
  },
  {
   "cell_type": "code",
   "execution_count": null,
   "metadata": {
    "colab": {
     "base_uri": "https://localhost:8080/"
    },
    "id": "czvq-HfaaXRa",
    "outputId": "c0e6a5be-fbdf-410e-8188-4f5fec3ce014"
   },
   "outputs": [
    {
     "name": "stdout",
     "output_type": "stream",
     "text": [
      "2 tracks\n"
     ]
    }
   ],
   "source": [
    "vf = vitaldb.VitalFile(1, ['ECG_II', 'ART'])  # load the first case from open dataset\n",
    "print(f'{len(vf.get_track_names())} tracks')"
   ]
  },
  {
   "cell_type": "markdown",
   "metadata": {
    "id": "FvWQq9yAc7QN"
   },
   "source": [
    "With the code below, you can download the first 5 cases that have 'Primus/AWP' track in the open dataset."
   ]
  },
  {
   "cell_type": "code",
   "execution_count": null,
   "metadata": {
    "id": "aOACz9m-caOL"
   },
   "outputs": [],
   "source": [
    "track_names = ['AWP']\n",
    "for caseid in vitaldb.find_cases(track_names)[:5]:\n",
    "    vf = vitaldb.VitalFile(caseid, track_names)\n",
    "    vf.to_vital(f'awp{caseid}.vital')"
   ]
  }
 ],
 "metadata": {
  "colab": {
   "authorship_tag": "ABX9TyMkxj2T54Gvo3JoZzx0o3Dt",
   "include_colab_link": true,
   "name": "vitaldb_python_library.ipynb",
   "provenance": [],
   "toc_visible": true
  },
  "kernelspec": {
   "display_name": "Python 3 (ipykernel)",
   "language": "python",
   "name": "python3"
  },
  "language_info": {
   "codemirror_mode": {
    "name": "ipython",
    "version": 3
   },
   "file_extension": ".py",
   "mimetype": "text/x-python",
   "name": "python",
   "nbconvert_exporter": "python",
   "pygments_lexer": "ipython3",
   "version": "3.9.12"
  }
 },
 "nbformat": 4,
 "nbformat_minor": 1
}
